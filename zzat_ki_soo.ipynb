{
 "cells": [
  {
   "cell_type": "code",
   "execution_count": 1,
   "metadata": {
    "scrolled": true
   },
   "outputs": [],
   "source": [
    "def Check_Rate(man, total):\n",
    "    percentman = man / total\n",
    "    return percentman        "
   ]
  },
  {
   "cell_type": "code",
   "execution_count": 2,
   "metadata": {},
   "outputs": [],
   "source": [
    "def PRINT(num):\n",
    "    if num == 0:\n",
    "        print(\"10대이하\", end = '')\n",
    "    elif num > 0 and num < 6:\n",
    "        print(\"%d대\\t\" % (10 * num), end = '')\n",
    "    else:\n",
    "        print(\"60대이상\", end = '')"
   ]
  },
  {
   "cell_type": "code",
   "execution_count": 3,
   "metadata": {},
   "outputs": [],
   "source": [
    "def indexCheck_man(num):\n",
    "    i = 0\n",
    "    man_count = 0\n",
    "    for b in age_check:\n",
    "        if i == count_man:\n",
    "            break\n",
    "        if num == 6:\n",
    "            if b >= 10 * num:\n",
    "                man_count += 1\n",
    "                i += 1\n",
    "            else:\n",
    "                i += 1\n",
    "                continue\n",
    "            \n",
    "        else:\n",
    "            if b >= 10 * num and b <= 10 * num + 9:\n",
    "                man_count += 1\n",
    "                i += 1    \n",
    "            else:\n",
    "                i += 1\n",
    "                continue\n",
    "    return man_count    \n",
    "        \n",
    "        "
   ]
  },
  {
   "cell_type": "code",
   "execution_count": 4,
   "metadata": {},
   "outputs": [],
   "source": [
    "def indexCheck_woman(num):\n",
    "    woman_count = 0\n",
    "    for b in range(count_man, len(age_check)):\n",
    "        if num == 6:\n",
    "            if age_check[b] >= 10 * num:\n",
    "                woman_count += 1\n",
    "        else:\n",
    "            if age_check[b] >= 10 * num and age_check[b] <= 10 * num + 9:\n",
    "                woman_count += 1\n",
    "            else:\n",
    "                continue\n",
    "    return woman_count"
   ]
  },
  {
   "cell_type": "code",
   "execution_count": 5,
   "metadata": {},
   "outputs": [],
   "source": [
    "def check_university_ratio_man(num):\n",
    "    count_uni_man = 0\n",
    "    for b in range(0, count_man):\n",
    "        if num == 6 and age_check[b] >= 10 * num:\n",
    "            if grade_check[b] == True:\n",
    "                count_uni_man += 1\n",
    "        \n",
    "        elif num != 6 and age_check[b] >= 10 * num and age_check[b] <= 10 * num + 9:\n",
    "                if grade_check[b] == True:\n",
    "                    count_uni_man += 1\n",
    "        else:\n",
    "            continue\n",
    "    return count_uni_man"
   ]
  },
  {
   "cell_type": "code",
   "execution_count": 6,
   "metadata": {},
   "outputs": [],
   "source": [
    "def check_university_ratio_woman(num):\n",
    "    count_uni_woman = 0\n",
    "    for b in range(count_man, len(grade_check)):\n",
    "        if num == 6 and age_check[b] >= 10 * num:\n",
    "            if grade_check[b] == True:\n",
    "                count_uni_woman += 1\n",
    "        elif num != 6 and age_check[b] >= 10 * num and age_check[b] <= 10 * num + 9:\n",
    "            if grade_check[b] == True:\n",
    "                count_uni_woman += 1\n",
    "        else:\n",
    "            continue\n",
    "            \n",
    "            \n",
    "    return count_uni_woman"
   ]
  },
  {
   "cell_type": "code",
   "execution_count": 9,
   "metadata": {
    "scrolled": true
   },
   "outputs": [
    {
     "name": "stdout",
     "output_type": "stream",
     "text": [
      "\t\t남성\t여성\n",
      "10대이하\t0.51    0.49\n",
      "10대\t\t0.51    0.49\n",
      "20대\t\t0.49    0.51\n",
      "30대\t\t0.50    0.50\n",
      "40대\t\t0.50    0.50\n",
      "50대\t\t0.49    0.51\n",
      "60대이상\t0.44    0.56\n",
      "\t\t남성\t여성\t전체\n",
      "20대\t\t0.82    0.84    0.83\n",
      "30대\t\t0.75    0.72    0.74\n",
      "40대\t\t0.55    0.45    0.50\n",
      "50대\t\t0.36    0.21    0.28\n",
      "60대이상\t0.18    0.05    0.11\n"
     ]
    }
   ],
   "source": [
    "import numpy as np\n",
    "data = np.loadtxt(\"population.csv\", delimiter = \",\", dtype = 'int64')\n",
    "gender_check = data[:, 0] == 1\n",
    "age_check = data[:, 1]\n",
    "grade_check = data[:, 2] >= 5\n",
    "count_man = 0\n",
    "for a in range(len(gender_check)):\n",
    "    if gender_check[a] == False:\n",
    "        break\n",
    "    count_man += 1\n",
    "\n",
    "print(\"\\t\\t남성\\t여성\")\n",
    "for x in range(7):\n",
    "    countman = indexCheck_man(x)\n",
    "    countwoman = indexCheck_woman(x)\n",
    "    percentage_man = Check_Rate(countman, countman + countwoman)\n",
    "    percentage_woman = 1 - percentage_man\n",
    "    PRINT(x)\n",
    "    print(\"\\t{:.2f}    {:.2f}\".format(round(percentage_man, 2), round(percentage_woman, 2)))\n",
    "        \n",
    "print(\"\\t\\t남성\\t여성\\t전체\")\n",
    "for y in range(2, 7):\n",
    "    countman = indexCheck_man(y)\n",
    "    countwoman = indexCheck_woman(y)\n",
    "    count_uni_man = check_university_ratio_man(y)\n",
    "    count_uni_woman = check_university_ratio_woman(y)\n",
    "    percent_uni_man = Check_Rate(count_uni_man, countman)\n",
    "    percent_uni_woman = Check_Rate(count_uni_woman, countwoman)\n",
    "    percent_uni_total = Check_Rate(count_uni_man + count_uni_woman, countman + countwoman)\n",
    "    PRINT(y)\n",
    "    print(\"\\t{:.2f}    {:.2f}   {:5.2f}\".format(round(percent_uni_man, 2), round(percent_uni_woman, 2), round(percent_uni_total, 2)))"
   ]
  },
  {
   "cell_type": "code",
   "execution_count": null,
   "metadata": {},
   "outputs": [],
   "source": []
  }
 ],
 "metadata": {
  "kernelspec": {
   "display_name": "Python 3",
   "language": "python",
   "name": "python3"
  },
  "language_info": {
   "codemirror_mode": {
    "name": "ipython",
    "version": 3
   },
   "file_extension": ".py",
   "mimetype": "text/x-python",
   "name": "python",
   "nbconvert_exporter": "python",
   "pygments_lexer": "ipython3",
   "version": "3.7.1"
  }
 },
 "nbformat": 4,
 "nbformat_minor": 2
}
