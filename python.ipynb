{
 "cells": [
  {
   "cell_type": "code",
   "execution_count": 12,
   "metadata": {},
   "outputs": [
    {
     "name": "stdout",
     "output_type": "stream",
     "text": [
      "\t\t1인가구\t\t2인가구\t\t3인가구\t\t4인가구\t   5인가구이상\n",
      "수도권\t           17491           44449           49661           53632           60370 \n",
      "비수도권           10990           30803           32054           37865           37447 \n",
      "Wall time: 140 ms\n"
     ]
    }
   ],
   "source": [
    "%%time\n",
    "import numpy as np\n",
    "asset = np.loadtxt(\"asset.csv\", delimiter = \",\", dtype = np.string_)#자산 데이터 불러오기\n",
    "seoul = asset[:, 0]#수도권여부 지정하는 것 슬라이싱\n",
    "cond = (seoul == b'G1')\n",
    "seoul = np.where(cond, 1, 2)#수도권이면 1, 아니면 2\n",
    "asset = np.array(asset[:,1:], dtype = \"int64\")#자산과 관련된 모든 데이터를 슬라이싱\n",
    "lookup_arr_family = np.array([2, 3, 4, 5, 20]) #lookup table 배열 생성\n",
    "text = [\"수도권\\t\", \"비수도권\"]#텍스트 출력\n",
    "print(\"\\t\\t1인가구\\t\\t2인가구\\t\\t3인가구\\t\\t4인가구\\t   5인가구이상\")\n",
    "for i, textline in enumerate(text):#반복문을 이용하여 데이터 출력\n",
    "    print(text[i], end = ' ')\n",
    "    begin_family = 1#lookup table을 활용하기 위해 시작점 설정\n",
    "    for j, end_family in enumerate(lookup_arr_family):#가구수 관련 enumerate\n",
    "        totalCondition = ((asset[:, 0] >= begin_family) & (asset[:, 0] < end_family))#전체 조건(가구수)\n",
    "        rightCondition = ((seoul == i + 1) & totalCondition)#부분 조건(수도권 or 비수도권)\n",
    "        rightAssetAverage = sum(asset[rightCondition][:, 2] - asset[rightCondition][:, 3]) / len(asset[rightCondition])#조건에 맞는 순자산\n",
    "        print(\"%15.0f\" % (rightAssetAverage), end = ' ')\n",
    "        begin_family = end_family#마지막 비교대상 대입\n",
    "    print()"
   ]
  },
  {
   "cell_type": "code",
   "execution_count": 11,
   "metadata": {},
   "outputs": [
    {
     "name": "stdout",
     "output_type": "stream",
     "text": [
      "\t\t1인가구\t\t2인가구\t\t3인가구\t\t4인가구\t     5인가구이상\n",
      "20대\t            4754           11468           11950            7926           14552 \n",
      "30대\t            8488           18861           24389           27595           27376 \n",
      "40대\t           15866           21337           33170           40676           40685 \n",
      "50대\t           11917           29255           43535           52297           52902 \n",
      "60대이상           14222           40955           48717           60094           62211 \n",
      "Wall time: 28.1 ms\n"
     ]
    }
   ],
   "source": [
    "%%time\n",
    "age = [\"20대\\t\", \"30대\\t\", \"40대\\t\", \"50대\\t\", \"60대이상\"]#나이와 관련된 텍스트\n",
    "look_arr_age = np.array([30, 40, 50, 60, 200])#look_up 테이블 생성(나이)\n",
    "start_age = 20#시작 점 설정\n",
    "print(\"\\t\\t1인가구\\t\\t2인가구\\t\\t3인가구\\t\\t4인가구\\t     5인가구이상\")\n",
    "for i, end_age in enumerate(look_arr_age):\n",
    "    print(age[i], end = ' ')#20대, 30대 등 레이블 출력\n",
    "    start_family = 1#시작점 설정\n",
    "    for j, end_family in enumerate(lookup_arr_family):#비교할 마지막 나이 설정\n",
    "        totalCondition = (((asset[:, 1] >= start_age) & (asset[:, 1] < end_age)) & ((asset[:, 0] >= start_family) & (asset[:, 0] < end_family)))#전체 조건(나이와 가구수를 동시에 설정)\n",
    "        totalAsset = sum(asset[totalCondition][:, 2] - asset[totalCondition][:, 3]) / len(asset[totalCondition])#조건에 맞는 순자산\n",
    "        start_family = end_family#끝점을 시작점으로 다시 대입\n",
    "        print(\"%15.0f\" % (totalAsset), end = ' ') #출력\n",
    "    start_age = end_age\n",
    "    print()  "
   ]
  }
 ],
 "metadata": {
  "kernelspec": {
   "display_name": "Python 3",
   "language": "python",
   "name": "python3"
  },
  "language_info": {
   "codemirror_mode": {
    "name": "ipython",
    "version": 3
   },
   "file_extension": ".py",
   "mimetype": "text/x-python",
   "name": "python",
   "nbconvert_exporter": "python",
   "pygments_lexer": "ipython3",
   "version": "3.7.1"
  }
 },
 "nbformat": 4,
 "nbformat_minor": 2
}
